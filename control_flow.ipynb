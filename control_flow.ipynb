{
  "nbformat": 4,
  "nbformat_minor": 0,
  "metadata": {
    "colab": {
      "provenance": []
    },
    "kernelspec": {
      "name": "python3",
      "display_name": "Python 3"
    },
    "language_info": {
      "name": "python"
    }
  },
  "cells": [
    {
      "cell_type": "markdown",
      "source": [
        "1. Write a Python program to check if a given number is positive or negative."
      ],
      "metadata": {
        "id": "5rfLtKeTamXH"
      }
    },
    {
      "cell_type": "code",
      "execution_count": null,
      "metadata": {
        "colab": {
          "base_uri": "https://localhost:8080/"
        },
        "id": "rZWDWaC6aiNA",
        "outputId": "45271f81-77ea-4991-d15d-8318d55125eb"
      },
      "outputs": [
        {
          "output_type": "stream",
          "name": "stdout",
          "text": [
            "enter nuumber3\n",
            "number is positive\n"
          ]
        }
      ],
      "source": [
        "number = int(input(\"enter nuumber\"))\n",
        "if number > 0:\n",
        "  print(\"number is positive\")\n",
        "if number < 0:\n",
        " print(\"number is negavtive\")\n",
        "if number == 0:\n",
        "  print(\" nothing to print\")"
      ]
    },
    {
      "cell_type": "markdown",
      "source": [
        "2. Create a program that determines if a person is eligible to vote based on their age."
      ],
      "metadata": {
        "id": "vrpsRXskcLBu"
      }
    },
    {
      "cell_type": "code",
      "source": [
        "\n",
        "min_age = int(input(\"enter age min limit for vote: \"))\n",
        "person_age = int(input(\"enter age of person: \"))\n",
        "if min_age < person_age:\n",
        " print(\"eligible to vote \")\n",
        "else:\n",
        " print(\"not eligible to vote \")"
      ],
      "metadata": {
        "colab": {
          "base_uri": "https://localhost:8080/"
        },
        "id": "DTieB3MkcVaU",
        "outputId": "eda9f59b-485e-4f9b-8945-4af0a688215c"
      },
      "execution_count": null,
      "outputs": [
        {
          "output_type": "stream",
          "name": "stdout",
          "text": [
            "enter age min limit for vote: 18\n",
            "enter age of person: 45\n",
            "eligible to vote \n"
          ]
        }
      ]
    },
    {
      "cell_type": "markdown",
      "source": [
        "3. Develop a program to find the maximum of two numbers using if-else statements."
      ],
      "metadata": {
        "id": "AksDBKz0d_jk"
      }
    },
    {
      "cell_type": "code",
      "source": [
        "x= int(input(\"enter no. : \"))\n",
        "y = int(input(\"enter no. : \"))\n",
        "if x>y:\n",
        "  print(\"maximum of two number:\",x)\n",
        "else:\n",
        "   print(\"maximum of two number:\",y)"
      ],
      "metadata": {
        "colab": {
          "base_uri": "https://localhost:8080/"
        },
        "id": "gzZq130Md2CF",
        "outputId": "0400d77e-057b-4740-f977-51fa70235568"
      },
      "execution_count": null,
      "outputs": [
        {
          "output_type": "stream",
          "name": "stdout",
          "text": [
            "enter no. : 23\n",
            "enter no. : 45\n",
            "maximum of two number: 45\n"
          ]
        }
      ]
    },
    {
      "cell_type": "markdown",
      "source": [
        "4. Write a Python script to classify a given year as a leap year or not."
      ],
      "metadata": {
        "id": "oz0rUgrresI1"
      }
    },
    {
      "cell_type": "code",
      "source": [
        "year = int(input(\"enter year: \"))\n",
        "if (year % 4 == 0):\n",
        "  print(\"year is leap year\")\n",
        "else:\n",
        "  print(\"year is not leap year\")\n"
      ],
      "metadata": {
        "colab": {
          "base_uri": "https://localhost:8080/"
        },
        "id": "oyQWUQ0aem8m",
        "outputId": "7ee94d9a-de11-4e55-9527-71115ee8791b"
      },
      "execution_count": null,
      "outputs": [
        {
          "output_type": "stream",
          "name": "stdout",
          "text": [
            "enter year: 2020\n",
            "year is leap year\n"
          ]
        }
      ]
    },
    {
      "cell_type": "code",
      "source": [
        "# 5. Create a program that checks whether a character is a vowel or a consonant.\n",
        "ch = input(\"enter character:\")\n",
        "ch = ch.lower()\n",
        "if (ch =='a'or ch=='e' or ch=='i' or ch=='o' or ch=='u'):\n",
        "  print(\"character is vowel\")\n",
        "else:\n",
        "  print(\"character is consonant\")\n",
        "\n"
      ],
      "metadata": {
        "colab": {
          "base_uri": "https://localhost:8080/"
        },
        "id": "yw34cJHIhxRi",
        "outputId": "b16570f8-6e5a-47b5-92fe-28915320ae9b"
      },
      "execution_count": null,
      "outputs": [
        {
          "output_type": "stream",
          "name": "stdout",
          "text": [
            "enter character:A\n",
            "character is vowel\n"
          ]
        }
      ]
    },
    {
      "cell_type": "code",
      "source": [
        "#6. Implement a program to determine whether a given number is even or odd.\n",
        "num = int(input(\"enter number: \"))\n",
        "if num%2 == 0:\n",
        "  print(\"no is even\")\n",
        "else:\n",
        "  print(\"no is odd\")\n",
        "\n",
        "\n",
        "\n"
      ],
      "metadata": {
        "colab": {
          "base_uri": "https://localhost:8080/"
        },
        "id": "ZNAMxANJi7ic",
        "outputId": "3fe6af0d-29c2-47e5-d808-9662612656b7"
      },
      "execution_count": null,
      "outputs": [
        {
          "output_type": "stream",
          "name": "stdout",
          "text": [
            "enter number: 11\n",
            "no is odd\n"
          ]
        }
      ]
    },
    {
      "cell_type": "code",
      "source": [
        "#7. Write a Python function to calculate the absolute value of a number without using the `abs()` function.\n",
        "num = -20\n",
        "if num >= 0:\n",
        "        print(num)\n",
        "else:\n",
        "        print(-num)"
      ],
      "metadata": {
        "colab": {
          "base_uri": "https://localhost:8080/"
        },
        "id": "044OrJQyjhia",
        "outputId": "68c69b84-53e8-458a-bf5a-4de121565022"
      },
      "execution_count": null,
      "outputs": [
        {
          "output_type": "stream",
          "name": "stdout",
          "text": [
            "20\n"
          ]
        }
      ]
    },
    {
      "cell_type": "code",
      "source": [
        "#8. Develop a program that determines the largest of three given numbers using if-else statements.\n",
        "num1 = 10\n",
        "num2 = 14\n",
        "num3 = 12\n",
        "\n",
        "\n",
        "if (num1 >= num2) and (num1 >= num3):\n",
        "   largest = num1\n",
        "elif (num2 >= num1) and (num2 >= num3):\n",
        "   largest = num2\n",
        "else:\n",
        "   largest = num3\n",
        "\n",
        "print(\"The largest number is\", largest)"
      ],
      "metadata": {
        "colab": {
          "base_uri": "https://localhost:8080/"
        },
        "id": "RitXaRO0jprv",
        "outputId": "0d34b195-9757-49f3-e09a-1c57c0cf0cbb"
      },
      "execution_count": null,
      "outputs": [
        {
          "output_type": "stream",
          "name": "stdout",
          "text": [
            "The largest number is 14\n"
          ]
        }
      ]
    },
    {
      "cell_type": "code",
      "source": [
        "#9. Create a program that checks if a given string is a palindrome.\n",
        "string = input(\"enter input: \")\n",
        "if string == string[::-1]:\n",
        "  print(\"a given string is a palindrome\")\n",
        "else:\n",
        "  print(\"a given string is not a palindrome\")"
      ],
      "metadata": {
        "colab": {
          "base_uri": "https://localhost:8080/"
        },
        "id": "0bR8PGFhjsW4",
        "outputId": "fb1bc521-9281-471c-e0e8-7d499ccc4d15"
      },
      "execution_count": null,
      "outputs": [
        {
          "output_type": "stream",
          "name": "stdout",
          "text": [
            "enter input: aaaaaa\n",
            "a given string is a palindrome\n"
          ]
        }
      ]
    },
    {
      "cell_type": "code",
      "source": [
        "#10. Write a Python program to calculate the grade based on a student's score.\n",
        "print(\"Enter Marks Obtained in 5 Subjects: \")\n",
        "markOne = int(input())\n",
        "markTwo = int(input())\n",
        "markThree = int(input())\n",
        "markFour = int(input())\n",
        "markFive = int(input())\n",
        "\n",
        "tot = markOne+markTwo+markThree+markFour+markFive\n",
        "avg = tot/5\n",
        "\n",
        "if avg>=91 and avg<=100:\n",
        "    print(\"Your Grade is A1\")\n",
        "elif avg>=81 and avg<91:\n",
        "    print(\"Your Grade is A2\")\n",
        "elif avg>=71 and avg<81:\n",
        "    print(\"Your Grade is B1\")\n",
        "elif avg>=61 and avg<71:\n",
        "    print(\"Your Grade is B2\")\n",
        "elif avg>=51 and avg<61:\n",
        "    print(\"Your Grade is C1\")\n",
        "elif avg>=41 and avg<51:\n",
        "    print(\"Your Grade is C2\")\n",
        "elif avg>=33 and avg<41:\n",
        "    print(\"Your Grade is D\")\n",
        "elif avg>=21 and avg<33:\n",
        "    print(\"Your Grade is E1\")\n",
        "elif avg>=0 and avg<21:\n",
        "    print(\"Your Grade is E2\")\n",
        "else:\n",
        "    print(\"Invalid Input!\")"
      ],
      "metadata": {
        "colab": {
          "base_uri": "https://localhost:8080/"
        },
        "id": "qyF5PivwnQEQ",
        "outputId": "06024fd0-0d47-4fbd-a49f-da6096eafd33"
      },
      "execution_count": null,
      "outputs": [
        {
          "output_type": "stream",
          "name": "stdout",
          "text": [
            "Enter Marks Obtained in 5 Subjects: \n",
            "67\n",
            "67\n",
            "78\n",
            "89\n",
            "89\n",
            "Your Grade is B1\n"
          ]
        }
      ]
    },
    {
      "cell_type": "markdown",
      "source": [
        "Nested If-Else Statements:"
      ],
      "metadata": {
        "id": "pIHyb-W3uZOD"
      }
    },
    {
      "cell_type": "code",
      "source": [
        "#11. Write a program to find the largest among three numbers using nested if-else statements.\n",
        "# input three integer numbers\n",
        "a=int(input(\"Enter A: \"))\n",
        "b=int(input(\"Enter B: \"))\n",
        "c=int(input(\"Enter C: \"))\n",
        "\n",
        "# conditions to find largest\n",
        "if a>b:\n",
        "    if a>c:\n",
        "        g=a\n",
        "    else:\n",
        "        g=c\n",
        "else:\n",
        "    if b>c:\n",
        "        g=b\n",
        "    else:\n",
        "        g=c\n",
        "\n",
        "# print the largest number\n",
        "print(\"Greater  = \",g)"
      ],
      "metadata": {
        "colab": {
          "base_uri": "https://localhost:8080/"
        },
        "id": "CDokspcKuiqd",
        "outputId": "78369b08-5df6-44ad-b1a7-995029ffd220"
      },
      "execution_count": null,
      "outputs": [
        {
          "output_type": "stream",
          "name": "stdout",
          "text": [
            "Enter A: 23\n",
            "Enter B: 34\n",
            "Enter C: 12\n",
            "Greater  =  34\n"
          ]
        }
      ]
    },
    {
      "cell_type": "code",
      "source": [
        "#12. Implement a program to determine if a triangle is equilateral, isosceles, or scalene.\n",
        "print(\"Input lengths of the triangle sides: \")\n",
        "x = int(input(\"x: \"))\n",
        "y = int(input(\"y: \"))\n",
        "z = int(input(\"z: \"))\n",
        "\n",
        "if x == y == z:\n",
        "\tprint(\"Equilateral triangle\")\n",
        "elif x==y or y==z or z==x:\n",
        "\tprint(\"isosceles triangle\")\n",
        "else:\n",
        "\tprint(\"Scalene triangle\")"
      ],
      "metadata": {
        "colab": {
          "base_uri": "https://localhost:8080/"
        },
        "id": "LPH2xzCkvDre",
        "outputId": "ca676229-936a-49d5-dd07-f73e17a5efd9"
      },
      "execution_count": null,
      "outputs": [
        {
          "output_type": "stream",
          "name": "stdout",
          "text": [
            "Input lengths of the triangle sides: \n",
            "x: 6\n",
            "y: 8\n",
            "z: 12\n",
            "Scalene triangle\n"
          ]
        }
      ]
    },
    {
      "cell_type": "code",
      "source": [
        "#13. Develop a program that checks if a year is a leap year and also if it is a century year.\n",
        "year=int(input(\"Enter year to be checked:\"))\n",
        "if(year%4==0 and year%100!=0 or year%400==0):\n",
        "    print(\"The year is a leap year!\")\n",
        "else:\n",
        "    print(\"The year isn't a leap year!\")"
      ],
      "metadata": {
        "colab": {
          "base_uri": "https://localhost:8080/"
        },
        "id": "mLAWYrc9vVVU",
        "outputId": "3ee2eb51-62b0-48c5-e84a-ab0bc853224c"
      },
      "execution_count": null,
      "outputs": [
        {
          "output_type": "stream",
          "name": "stdout",
          "text": [
            "Enter year to be checked:2024\n",
            "The year is a leap year!\n"
          ]
        }
      ]
    },
    {
      "cell_type": "code",
      "source": [
        "#14. Write a Python script to determine if a number is positive, negative, or zero.\n",
        "num = float(input(\"Enter a number: \"))\n",
        "if num > 0:\n",
        "   print(\"Positive number\")\n",
        "elif num == 0:\n",
        "   print(\"Zero\")\n",
        "else:\n",
        "   print(\"Negative number\")"
      ],
      "metadata": {
        "colab": {
          "base_uri": "https://localhost:8080/"
        },
        "id": "jozti6QivtyH",
        "outputId": "f343b10c-9c9e-404a-889d-cef5307c2a81"
      },
      "execution_count": null,
      "outputs": [
        {
          "output_type": "stream",
          "name": "stdout",
          "text": [
            "Enter a number: 23\n",
            "Positive number\n"
          ]
        }
      ]
    },
    {
      "cell_type": "code",
      "source": [
        "#15. Create a program to check if a person is a teenager (between 13 and 19 years old).\n",
        "age = int(input(\"Please enter your age:\"))\n",
        "if age <= 0:\n",
        "\tprint('Invalid input')\n",
        "elif age >= 1 and age <= 5:\n",
        "\tprint('Infant')\n",
        "elif age >= 6 and age <= 10:\n",
        "\tprint('Child')\n",
        "elif age >= 13 and age <= 19:\n",
        "\tprint('Teenager')\n",
        "else:\n",
        "\tprint('Adult')"
      ],
      "metadata": {
        "colab": {
          "base_uri": "https://localhost:8080/"
        },
        "id": "2E7JYfqmv91g",
        "outputId": "1fb3fa7e-a65a-4eeb-dc6b-61c116d66f0b"
      },
      "execution_count": null,
      "outputs": [
        {
          "output_type": "stream",
          "name": "stdout",
          "text": [
            "Please enter your age:14\n",
            "Teenager\n"
          ]
        }
      ]
    },
    {
      "cell_type": "code",
      "source": [
        "#16. Develop a program that determines the type of angle based on its measure (acute, obtuse, or right).\n",
        "angle = int(input(\"enter angle:\"))\n",
        "if angle < 90:\n",
        " print(\"acute angle\")\n",
        "elif angle == 90:\n",
        " print(\"right angle\")\n",
        "elif 90 < angle < 180:\n",
        " print(\"obtuse angle\")"
      ],
      "metadata": {
        "colab": {
          "base_uri": "https://localhost:8080/"
        },
        "id": "suC-1y2wwijt",
        "outputId": "dbb1e673-43a1-4599-9049-3af453aef964"
      },
      "execution_count": null,
      "outputs": [
        {
          "output_type": "stream",
          "name": "stdout",
          "text": [
            "enter angle:120\n",
            "obtuse angle\n"
          ]
        }
      ]
    },
    {
      "cell_type": "code",
      "source": [
        "#7. Write a Python program to calculate the roots of a quadratic equation.\n",
        "\n",
        "import cmath\n",
        "\n",
        "a = 1\n",
        "b = 5\n",
        "c = 6\n",
        "\n",
        "# calculate the discriminant\n",
        "d = (b**2) - (4*a*c)\n",
        "\n",
        "# find two solutions\n",
        "sol1 = (-b-cmath.sqrt(d))/(2*a)\n",
        "sol2 = (-b+cmath.sqrt(d))/(2*a)\n",
        "\n",
        "print('The solution are {0} and {1}'.format(sol1,sol2))"
      ],
      "metadata": {
        "colab": {
          "base_uri": "https://localhost:8080/"
        },
        "id": "g4UL_0E-yX0A",
        "outputId": "43567a6c-c1ce-48dc-b5e1-36895b013ef6"
      },
      "execution_count": null,
      "outputs": [
        {
          "output_type": "stream",
          "name": "stdout",
          "text": [
            "The solution are (-3+0j) and (-2+0j)\n"
          ]
        }
      ]
    },
    {
      "cell_type": "code",
      "source": [
        "#18. Implement a program to determine the day of the week based on a user-provided number (1 for Monday, 2for Tuesday, etc.).\n",
        "\n",
        "num = int(input(\"enter user number: \"))\n",
        "if num == 1:\n",
        " print(\"monday\")\n",
        "elif num ==2:\n",
        "  print(\"Tuesday\")\n",
        "elif num==3:\n",
        "  print(\"wenesday\")\n",
        "elif num==4:\n",
        "  print(\"thursday\")\n",
        "elif num==5:\n",
        "  print(\"friday\")\n",
        "elif num==6:\n",
        "   print(\"saturday\")\n",
        "elif num==7:\n",
        "  print(\"sunday\")"
      ],
      "metadata": {
        "colab": {
          "base_uri": "https://localhost:8080/"
        },
        "id": "RjlYxLzTzniu",
        "outputId": "0ac3a53b-d108-4937-fe04-e605b163a17f"
      },
      "execution_count": null,
      "outputs": [
        {
          "output_type": "stream",
          "name": "stdout",
          "text": [
            "enter user number: 5\n",
            "friday\n"
          ]
        }
      ]
    },
    {
      "cell_type": "code",
      "source": [
        "#19. Create a program that determines if a year is a leap year and also if it is evenly divisible by 400.\n",
        "year=int(input(\"Enter year to be checked:\"))\n",
        "if(year%4==0 and year%100!=0 or year%400==0):\n",
        "    print(\"The year is a leap year!\")\n",
        "else:\n",
        "    print(\"The year isn't a leap year!\")"
      ],
      "metadata": {
        "colab": {
          "base_uri": "https://localhost:8080/"
        },
        "id": "qlAu3qST0zxM",
        "outputId": "108c7233-bc5b-484f-985d-44497a2e9e51"
      },
      "execution_count": null,
      "outputs": [
        {
          "output_type": "stream",
          "name": "stdout",
          "text": [
            "Enter year to be checked:2020\n",
            "The year is a leap year!\n"
          ]
        }
      ]
    },
    {
      "cell_type": "code",
      "source": [
        "#20. Develop a program that checks if a given number is prime or not using nested if-else statements.\n",
        "num = 11\n",
        "# If given number is greater than 1\n",
        "if num > 1:\n",
        "    # Iterate from 2 to n / 2\n",
        "    for i in range(2, int(num/2)+1):\n",
        "        # If num is divisible by any number between\n",
        "        # 2 and n / 2, it is not prime\n",
        "        if (num % i) == 0:\n",
        "            print(num, \"is not a prime number\")\n",
        "            break\n",
        "    else:\n",
        "        print(num, \"is a prime number\")\n",
        "else:\n",
        "    print(num, \"is not a prime number\")"
      ],
      "metadata": {
        "colab": {
          "base_uri": "https://localhost:8080/"
        },
        "id": "u_BqG2PG1GPW",
        "outputId": "27c2395f-a301-4853-88ab-2b7264c15ee9"
      },
      "execution_count": null,
      "outputs": [
        {
          "output_type": "stream",
          "name": "stdout",
          "text": [
            "11 is a prime number\n"
          ]
        }
      ]
    },
    {
      "cell_type": "code",
      "source": [
        "#21. Write a Python program to assign grades based on different ranges of scores using elif statements.\n",
        "print(\"Enter Marks Obtained in 5 Subjects: \")\n",
        "markOne = int(input())\n",
        "markTwo = int(input())\n",
        "markThree = int(input())\n",
        "markFour = int(input())\n",
        "markFive = int(input())\n",
        "\n",
        "tot = markOne+markTwo+markThree+markFour+markFive\n",
        "avg = tot/5\n",
        "\n",
        "if avg>=91 and avg<=100:\n",
        "    print(\"Your Grade is A1\")\n",
        "elif avg>=81 and avg<91:\n",
        "    print(\"Your Grade is A2\")\n",
        "elif avg>=71 and avg<81:\n",
        "    print(\"Your Grade is B1\")\n",
        "elif avg>=61 and avg<71:\n",
        "    print(\"Your Grade is B2\")\n",
        "elif avg>=51 and avg<61:\n",
        "    print(\"Your Grade is C1\")\n",
        "elif avg>=41 and avg<51:\n",
        "    print(\"Your Grade is C2\")\n",
        "elif avg>=33 and avg<41:\n",
        "    print(\"Your Grade is D\")\n",
        "elif avg>=21 and avg<33:\n",
        "    print(\"Your Grade is E1\")\n",
        "elif avg>=0 and avg<21:\n",
        "    print(\"Your Grade is E2\")\n",
        "else:\n",
        "   print(\"Invalid Input!\")"
      ],
      "metadata": {
        "colab": {
          "base_uri": "https://localhost:8080/"
        },
        "id": "6Z-E4Rvy3Iud",
        "outputId": "2bc01a82-8516-454e-84f7-8562848e5309"
      },
      "execution_count": null,
      "outputs": [
        {
          "output_type": "stream",
          "name": "stdout",
          "text": [
            "Enter Marks Obtained in 5 Subjects: \n",
            "34\n",
            "45\n",
            "45\n",
            "56\n",
            "67\n",
            "Your Grade is C2\n"
          ]
        }
      ]
    },
    {
      "cell_type": "code",
      "source": [
        "#22. Implement a program to determine the type of a triangle based on its angles.\n",
        "angle = int(input(\"enter angle:\"))\n",
        "if angle < 90:\n",
        " print(\"acute angle\")\n",
        "elif angle == 90:\n",
        " print(\"right angle\")\n",
        "elif 90 < angle < 180:\n",
        " print(\"obtuse angle\")"
      ],
      "metadata": {
        "colab": {
          "base_uri": "https://localhost:8080/"
        },
        "id": "tLdftdWI3li9",
        "outputId": "f7f10cea-de14-4898-9b92-b1592cc371ec"
      },
      "execution_count": null,
      "outputs": [
        {
          "output_type": "stream",
          "name": "stdout",
          "text": [
            "enter angle:56\n",
            "acute angle\n"
          ]
        }
      ]
    },
    {
      "cell_type": "code",
      "source": [
        "#23. Develop a program to categorize a given person's BMI into underweight, normal, overweight, or obese using elif statements.\n",
        "height = 1.79832\n",
        "weight = 70\n",
        "\n",
        "# calling the BMI function\n",
        "bmi = weight/(height**2)\n",
        "print(\"The BMI is\", format(bmi), \"so \", end='')\n",
        "\n",
        "# Conditions to find out BMI category\n",
        "if (bmi < 18.5):\n",
        "    print(\"underweight\")\n",
        "\n",
        "elif ( bmi >= 18.5 and bmi < 24.9):\n",
        "    print(\"Healthy\")\n",
        "\n",
        "elif ( bmi >= 24.9 and bmi < 30):\n",
        "    print(\"overweight\")\n",
        "\n",
        "elif ( bmi >=30):\n",
        "    print(\"Suffering from Obesity\")"
      ],
      "metadata": {
        "colab": {
          "base_uri": "https://localhost:8080/"
        },
        "id": "6x_xAUjC3-PH",
        "outputId": "b5f1e82c-3a09-404c-ad7f-14e7f0bf892e"
      },
      "execution_count": null,
      "outputs": [
        {
          "output_type": "stream",
          "name": "stdout",
          "text": [
            "The BMI is 21.64532402096181 so Healthy\n"
          ]
        }
      ]
    },
    {
      "cell_type": "code",
      "source": [
        "#24. Create a program that determines whether a given number is positive, negative, or zero using elif statements.\n",
        "num = float(input(\"Enter a number: \"))\n",
        "if num > 0:\n",
        "   print(\"Positive number\")\n",
        "elif num == 0:\n",
        "   print(\"Zero\")\n",
        "else:\n",
        "   print(\"Negative number\")"
      ],
      "metadata": {
        "colab": {
          "base_uri": "https://localhost:8080/"
        },
        "id": "VwDw7F6r4zIk",
        "outputId": "cec996c1-2070-4837-9a05-c333a327a497"
      },
      "execution_count": null,
      "outputs": [
        {
          "output_type": "stream",
          "name": "stdout",
          "text": [
            "Enter a number: 34.09\n",
            "Positive number\n"
          ]
        }
      ]
    },
    {
      "cell_type": "code",
      "source": [
        "#25.Write a Python script to determine the type of a character (uppercase, lowercase, or special) using elif statements.\n",
        "ch = input(\"Please Enter Your Own Character : \")\n",
        "\n",
        "if(ch.isupper()):\n",
        "    print(\"The Given Character \", ch, \"is an Uppercase Alphabet\")\n",
        "elif(ch.islower()):\n",
        "    print(\"The Given Character \", ch, \"is a Lowercase Alphabet\")\n",
        "else:\n",
        "    print(\"The Given Character \", ch, \"is Not a Lower or Uppercase Alphabet\")"
      ],
      "metadata": {
        "colab": {
          "base_uri": "https://localhost:8080/"
        },
        "id": "yOPL7DQB6J3h",
        "outputId": "c9f70690-8499-4f0a-a2a5-071d13eb7700"
      },
      "execution_count": null,
      "outputs": [
        {
          "output_type": "stream",
          "name": "stdout",
          "text": [
            "Please Enter Your Own Character : T\n",
            "The Given Character  T is an Uppercase Alphabet\n"
          ]
        }
      ]
    },
    {
      "cell_type": "code",
      "source": [
        "#26.Implement a program to calculate the discounted price based on different purchase amounts using elif statements.\n",
        "p=int(input('Enter purchase amount '))\n",
        "\n",
        "if p<=5000:\n",
        "    dis=0\n",
        "elif p>5000 and p<=10000:\n",
        "    dis=(p-5000)*(10/100.0)\n",
        "elif p>10000 and p<=20000:\n",
        "    dis=(p-10000)*(20/100.0)\n",
        "elif p>20000 and p<=30000:\n",
        "    dis=(p-20000)*(30/100.0)\n",
        "else:\n",
        "    dis=(p-30000)*(40/100.0)\n",
        "\n",
        "print('Discount Amount = {:.2f}'.format(dis))\n",
        "print('Net Bill Amount = {:.2f}'.format(p-dis))"
      ],
      "metadata": {
        "colab": {
          "base_uri": "https://localhost:8080/"
        },
        "id": "jnLgvmRB6bRc",
        "outputId": "a93cffc9-9a83-422b-9ed5-517d9902284e"
      },
      "execution_count": null,
      "outputs": [
        {
          "output_type": "stream",
          "name": "stdout",
          "text": [
            "Enter purchase amount 25648\n",
            "Discount Amount = 1694.40\n",
            "Net Bill Amount = 23953.60\n"
          ]
        }
      ]
    },
    {
      "cell_type": "code",
      "source": [
        "#27.Develop a program to calculate the electricity bill based on different consumption slabs using elif statements.\n",
        "unit = int(input(\"Enter your unit: \"))\n",
        "if unit <= 100:\n",
        "    bill = unit * 3.46\n",
        "elif unit >= 101 and unit <= 300:\n",
        "    bill = 346 + ((unit - 100) * 7.43)\n",
        "elif unit >= 301 and unit <= 500:\n",
        "    bill = 346 + 1486 + ((unit - 300) * 10.32)\n",
        "else:\n",
        "    bill = 346 + 1486 + 2064 + ((unit - 500) * 11.71)\n",
        "print(\"Bill Per Unit:\",bill)\n",
        "bill = bill + (unit*1.45)\n",
        "print(\"Bill after adding Line rent:\",bill)\n",
        "bill = bill + 100\n",
        "print(\"Bill after adding Meter rent:\",bill)\n",
        "bill = bill + (bill*0.16)\n",
        "print(\"Total Bill after adding tax:\",bill)"
      ],
      "metadata": {
        "colab": {
          "base_uri": "https://localhost:8080/"
        },
        "id": "XkfIA01N6s9b",
        "outputId": "d73ba7db-ff44-4c2b-d426-bae46d20ca64"
      },
      "execution_count": null,
      "outputs": [
        {
          "output_type": "stream",
          "name": "stdout",
          "text": [
            "Enter your unit: 106\n",
            "Bill Per Unit: 390.58\n",
            "Bill after adding Line rent: 544.28\n",
            "Bill after adding Meter rent: 644.28\n",
            "Total Bill after adding tax: 747.3648\n"
          ]
        }
      ]
    },
    {
      "cell_type": "code",
      "source": [
        "#28.Create a program to determine the type of quadrilateral based on its angles and sides using elif statements.\n",
        "d = 10\n",
        "a = 0.0\n",
        "\n",
        "# according to formula\n",
        "# derived above\n",
        "a=(360 - (6 * d)) / 4\n",
        "\n",
        "# print all the angles\n",
        "print(a,\",\", a + d, \",\", a + 2 * d,\n",
        "        \",\", a + 3 * d, sep = ' ')"
      ],
      "metadata": {
        "colab": {
          "base_uri": "https://localhost:8080/"
        },
        "id": "lxboljbb7MQI",
        "outputId": "6fef44b9-f8ae-45c2-9653-8607b22391ba"
      },
      "execution_count": null,
      "outputs": [
        {
          "output_type": "stream",
          "name": "stdout",
          "text": [
            "75.0 , 85.0 , 95.0 , 105.0\n"
          ]
        }
      ]
    },
    {
      "cell_type": "code",
      "source": [
        "#29.Write a Python script to determine the season based on a user-provided month using elif statements.\n",
        "x = int(input(\"Enter the month number: \"))\n",
        "if (x==1):\n",
        "         print (\"Jan\")\n",
        "elif (x==2):\n",
        "         print(\"Feb\")\n",
        "elif (x==3):\n",
        "         print(\"March\")\n",
        "elif (x==4):\n",
        "         print(\"April\")\n",
        "elif (x==5):\n",
        "         print(\"May\")\n",
        "elif (x==6):\n",
        "         print(\"June\")\n",
        "elif (x==7):\n",
        "         print(\"July\")\n",
        "elif (x==8):\n",
        "         print(\"August\")\n",
        "elif(x==9):\n",
        "         print(\"September\")\n",
        "elif(x==10):\n",
        "         print(\"October\")\n",
        "elif(x==11):\n",
        "         print(\"November\")\n",
        "elif(x==12):\n",
        "         print(\"December\")\n",
        "else:\n",
        "         print(\"Invalid input\")\n"
      ],
      "metadata": {
        "colab": {
          "base_uri": "https://localhost:8080/"
        },
        "id": "ictoXs6j7ckV",
        "outputId": "ae0c6aec-027e-4207-bca6-f367d16708d5"
      },
      "execution_count": null,
      "outputs": [
        {
          "output_type": "stream",
          "name": "stdout",
          "text": [
            "Enter the month number: 5\n",
            "May\n"
          ]
        }
      ]
    },
    {
      "cell_type": "code",
      "source": [
        "#30.Implement a program to determine the type of a year (leap or common) and month (30 or 31 days) using elif statements.\n",
        "currentYear = int(input (\" Enter the year: \" ) )\n",
        "month = int(input(\"Enter the month: \" ) )\n",
        "if ((currentYear % 4 ) == 0 and (currentYear % 100 ) != 0 or (currentYear % 400 ) == 0 ):\n",
        "       print(\"Leap Year\")\n",
        "       if(month == 1 or month == 3 or month == 5 or month == 7 or month == 8 or month == 10 or month == 12):\n",
        "               print(\"There are 31 days in this month \" )\n",
        "       elif ( month == 4 or month == 6 or month == 9 or month == 11 ):\n",
        "        print(\"There are 30 days in this month \" )\n",
        "       elif ( month == 2 ):\n",
        "        print(\"There are 29 days in this month \" )\n",
        "       else:\n",
        "        print(\"Invalid month \")\n",
        "elif ( ( currentYear % 4 ) != 0 or ( currentYear % 100 ) != 0 or ( currentYear % 400 ) != 0 ):\n",
        "       print(\"Non Leap Year \" )\n",
        "       if ( month == 1 or month == 3 or month == 5 or month == 7 or month == 8 or month == 10 or month == 12 ):\n",
        "        print(\"There are 31 days in this month\" )\n",
        "       elif ( month == 4 or month == 6 or month == 9 or month == 11 ):\n",
        "        print(\"There are 30 days in this month \" )\n",
        "       elif ( month == 2 ):\n",
        "        print(\"There are 28 days in this month \")\n",
        "       else:\n",
        "        print(\"Invalid month \" )\n",
        "else:\n",
        "       print( \" Invalid Year \" )"
      ],
      "metadata": {
        "colab": {
          "base_uri": "https://localhost:8080/"
        },
        "id": "dV455Qyy8jZd",
        "outputId": "c77aeb55-aaae-4417-d5ca-65da7fb75494"
      },
      "execution_count": null,
      "outputs": [
        {
          "output_type": "stream",
          "name": "stdout",
          "text": [
            " Enter the year: 2024\n",
            "Enter the month: 4\n",
            "Leap Year\n",
            "There are 30 days in this month \n"
          ]
        }
      ]
    },
    {
      "cell_type": "markdown",
      "source": [
        "Basic Level:"
      ],
      "metadata": {
        "id": "2wW43OPqin-g"
      }
    },
    {
      "cell_type": "code",
      "source": [
        "#1. Write a Python program that checks if a given number is positive, negative, or zero.\n",
        "num = float(input(\"Enter a number: \"))\n",
        "if num > 0:\n",
        "   print(\"Positive number\")\n",
        "elif num == 0:\n",
        "   print(\"Zero\")\n",
        "else:\n",
        "   print(\"Negative number\")"
      ],
      "metadata": {
        "colab": {
          "base_uri": "https://localhost:8080/"
        },
        "id": "yqqQ1I_wi0z8",
        "outputId": "12e9b873-2706-4d35-8976-87636ba87b37"
      },
      "execution_count": null,
      "outputs": [
        {
          "output_type": "stream",
          "name": "stdout",
          "text": [
            "Enter a number: -20\n",
            "Negative number\n"
          ]
        }
      ]
    },
    {
      "cell_type": "code",
      "source": [
        "# 2. Create a program to determine if a person is eligible to vote based on their age.\n",
        "min_age = int(input(\"enter age min limit for vote: \"))\n",
        "person_age = int(input(\"enter age of person: \"))\n",
        "if min_age < person_age:\n",
        " print(\"eligible to vote \")\n",
        "else:\n",
        " print(\"not eligible to vote \")"
      ],
      "metadata": {
        "colab": {
          "base_uri": "https://localhost:8080/"
        },
        "id": "cyq2pskIkya8",
        "outputId": "e9f69989-53a4-45a1-cf1b-1a5c160054c2"
      },
      "execution_count": null,
      "outputs": [
        {
          "output_type": "stream",
          "name": "stdout",
          "text": [
            "enter age min limit for vote: 19\n",
            "enter age of person: 20\n",
            "eligible to vote \n"
          ]
        }
      ]
    },
    {
      "cell_type": "code",
      "source": [
        "#3. Write a program to find the maximum of two given numbers using conditional statements.\n",
        "x= int(input(\"enter no. : \"))\n",
        "y = int(input(\"enter no. : \"))\n",
        "if x>y:\n",
        "  print(\"maximum of two number:\",x)\n",
        "else:\n",
        "   print(\"maximum of two number:\",y)3\n"
      ],
      "metadata": {
        "colab": {
          "base_uri": "https://localhost:8080/"
        },
        "id": "AO1mymPElSsX",
        "outputId": "851ea1d2-8f48-461c-e163-e80a029d328b"
      },
      "execution_count": null,
      "outputs": [
        {
          "output_type": "stream",
          "name": "stdout",
          "text": [
            "enter no. : 23\n",
            "enter no. : 4\n",
            "maximum of two number: 23\n"
          ]
        }
      ]
    },
    {
      "cell_type": "code",
      "source": [
        "#4. Develop a program that calculates the grade of a student based on their exam score.\n",
        "print(\"Enter Marks Obtained in 5 Subjects: \")\n",
        "markOne = int(input())\n",
        "markTwo = int(input())\n",
        "markThree = int(input())\n",
        "markFour = int(input())\n",
        "markFive = int(input())\n",
        "\n",
        "tot = markOne+markTwo+markThree+markFour+markFive\n",
        "avg = tot/5\n",
        "\n",
        "if avg>=91 and avg<=100:\n",
        "    print(\"Your Grade is A1\")\n",
        "elif avg>=81 and avg<91:\n",
        "    print(\"Your Grade is A2\")\n",
        "elif avg>=71 and avg<81:\n",
        "    print(\"Your Grade is B1\")\n",
        "elif avg>=61 and avg<71:\n",
        "    print(\"Your Grade is B2\")\n",
        "elif avg>=51 and avg<61:\n",
        "    print(\"Your Grade is C1\")\n",
        "elif avg>=41 and avg<51:\n",
        "    print(\"Your Grade is C2\")\n",
        "elif avg>=33 and avg<41:\n",
        "    print(\"Your Grade is D\")\n",
        "elif avg>=21 and avg<33:\n",
        "    print(\"Your Grade is E1\")\n",
        "elif avg>=0 and avg<21:\n",
        "    print(\"Your Grade is E2\")\n",
        "else:\n",
        "   print(\"Invalid Input!\")"
      ],
      "metadata": {
        "colab": {
          "base_uri": "https://localhost:8080/"
        },
        "id": "0YgMbDY59qyE",
        "outputId": "5886bb14-43d2-44e7-caab-ab2b6b8309ad"
      },
      "execution_count": null,
      "outputs": [
        {
          "output_type": "stream",
          "name": "stdout",
          "text": [
            "Enter Marks Obtained in 5 Subjects: \n",
            "45\n",
            "45\n",
            "56\n",
            "67\n",
            "67\n",
            "Your Grade is C1\n"
          ]
        }
      ]
    },
    {
      "cell_type": "code",
      "source": [
        "#5. Create a program that checks if a year is a leap year or not.\n",
        "\n",
        "year = int(input(\"enter year: \"))\n",
        "if (year % 4 == 0):\n",
        "  print(\"year is leap year\")\n",
        "else:\n",
        "  print(\"year is not leap year\")"
      ],
      "metadata": {
        "colab": {
          "base_uri": "https://localhost:8080/"
        },
        "id": "4jdb-DtN-NgA",
        "outputId": "76c8de74-b858-4174-a0d9-bff7bb28d0e9"
      },
      "execution_count": null,
      "outputs": [
        {
          "output_type": "stream",
          "name": "stdout",
          "text": [
            "enter year: 2020\n",
            "year is leap year\n"
          ]
        }
      ]
    },
    {
      "cell_type": "code",
      "source": [
        "#6. Write a program to classify a triangle based on its sides' lengths.\n",
        "\n",
        "x = int(input(\"x: \"))\n",
        "y = int(input(\"y: \"))\n",
        "z = int(input(\"z: \"))\n",
        "\n",
        "if x == y == z:\n",
        "\tprint(\"Equilateral triangle\")\n",
        "elif x==y or y==z or z==x:\n",
        "\tprint(\"isosceles triangle\")\n",
        "else:\n",
        "\tprint(\"Scalene triangle\")"
      ],
      "metadata": {
        "colab": {
          "base_uri": "https://localhost:8080/"
        },
        "id": "kL1MjAsF_cBN",
        "outputId": "baf9598e-e597-4e9d-d77e-8adcadb8b87a"
      },
      "execution_count": null,
      "outputs": [
        {
          "output_type": "stream",
          "name": "stdout",
          "text": [
            "x: 4\n",
            "y: 5\n",
            "z: 6\n",
            "Scalene triangle\n"
          ]
        }
      ]
    },
    {
      "cell_type": "code",
      "source": [
        "#7. Build a program that determines the largest of three given numbers.\n",
        "a=int(input(\"Enter A: \"))\n",
        "b=int(input(\"Enter B: \"))\n",
        "c=int(input(\"Enter C: \"))\n",
        "\n",
        "# conditions to find largest\n",
        "if a>b:\n",
        "    if a>c:\n",
        "        g=a\n",
        "    else:\n",
        "        g=c\n",
        "else:\n",
        "    if b>c:\n",
        "        g=b\n",
        "    else:\n",
        "        g=c\n",
        "\n",
        "# print the largest number\n",
        "print(\"Greater  = \",g)\n",
        "\n"
      ],
      "metadata": {
        "colab": {
          "base_uri": "https://localhost:8080/"
        },
        "id": "qF1T3NxaAtBg",
        "outputId": "d7bf43ad-91ca-4620-caf6-d96cb25e7071"
      },
      "execution_count": null,
      "outputs": [
        {
          "output_type": "stream",
          "name": "stdout",
          "text": [
            "Enter A: 34\n",
            "Enter B: 45\n",
            "Enter C: 56\n",
            "Greater  =  56\n"
          ]
        }
      ]
    },
    {
      "cell_type": "code",
      "source": [
        "#8. Develop a program that checks whether a character is a vowel or a consonant.\n",
        "ch = input(\"enter character:\")\n",
        "ch = ch.lower()\n",
        "if (ch =='a'or ch=='e' or ch=='i' or ch=='o' or ch=='u'):\n",
        "  print(\"character is vowel\")\n",
        "else:\n",
        "  print(\"character is consonant\")\n",
        "\n"
      ],
      "metadata": {
        "colab": {
          "base_uri": "https://localhost:8080/"
        },
        "id": "V0k1tFAbAyp_",
        "outputId": "a2c4776f-8c88-495e-8130-1601f2a6c449"
      },
      "execution_count": null,
      "outputs": [
        {
          "output_type": "stream",
          "name": "stdout",
          "text": [
            "enter character:t\n",
            "character is consonant\n"
          ]
        }
      ]
    },
    {
      "cell_type": "code",
      "source": [
        "#9. Create a program to calculate the total cost of a shopping cart based on discounts.\n",
        "p=int(input('Enter purchase amount '))\n",
        "\n",
        "if p<=5000:\n",
        "    dis=0\n",
        "elif p>5000 and p<=10000:\n",
        "    dis=(p-5000)*(10/100.0)\n",
        "elif p>10000 and p<=20000:\n",
        "    dis=(p-10000)*(20/100.0)\n",
        "elif p>20000 and p<=30000:\n",
        "    dis=(p-20000)*(30/100.0)\n",
        "else:\n",
        "    dis=(p-30000)*(40/100.0)\n",
        "\n",
        "print('Discount Amount = {:.2f}'.format(dis))\n",
        "print('Net Bill Amount = {:.2f}'.format(p-dis))"
      ],
      "metadata": {
        "colab": {
          "base_uri": "https://localhost:8080/"
        },
        "id": "x7Kp81JtA2Bh",
        "outputId": "3563412d-37ef-46b8-9ca7-79806fe1ce07"
      },
      "execution_count": null,
      "outputs": [
        {
          "output_type": "stream",
          "name": "stdout",
          "text": [
            "Enter purchase amount 3455\n",
            "Discount Amount = 0.00\n",
            "Net Bill Amount = 3455.00\n"
          ]
        }
      ]
    },
    {
      "cell_type": "code",
      "source": [
        "#10. Write a program that checks if a given number is even or odd.\n",
        "num = int(input(\"enter number: \"))\n",
        "if num%2 == 0:\n",
        "  print(\"no is even\")\n",
        "else:\n",
        "  print(\"no is odd\")\n"
      ],
      "metadata": {
        "colab": {
          "base_uri": "https://localhost:8080/"
        },
        "id": "Sa28EEstA5kW",
        "outputId": "d5a96b4c-6f54-4359-d861-28faefad617b"
      },
      "execution_count": null,
      "outputs": [
        {
          "output_type": "stream",
          "name": "stdout",
          "text": [
            "enter number: 45\n",
            "no is odd\n"
          ]
        }
      ]
    },
    {
      "cell_type": "markdown",
      "source": [
        "Intermediate Level:"
      ],
      "metadata": {
        "id": "R8d0Kd_sB0bp"
      }
    },
    {
      "cell_type": "code",
      "source": [
        "#11. Write a program that calculates the roots of a quadratic equation\n",
        "import cmath\n",
        "\n",
        "a = 1\n",
        "b = 5\n",
        "c = 6\n",
        "\n",
        "# calculate the discriminant\n",
        "d = (b**2) - (4*a*c)\n",
        "\n",
        "# find two solutions\n",
        "sol1 = (-b-cmath.sqrt(d))/(2*a)\n",
        "sol2 = (-b+cmath.sqrt(d))/(2*a)\n",
        "\n",
        "print('The solution are {0} and {1}'.format(sol1,sol2))"
      ],
      "metadata": {
        "colab": {
          "base_uri": "https://localhost:8080/"
        },
        "id": "Rk9Qrl3kB5K3",
        "outputId": "63b9825f-d567-4eb8-855b-423453d2d7f3"
      },
      "execution_count": null,
      "outputs": [
        {
          "output_type": "stream",
          "name": "stdout",
          "text": [
            "The solution are (-3+0j) and (-2+0j)\n"
          ]
        }
      ]
    },
    {
      "cell_type": "code",
      "source": [
        "#12. Create a program that determines the day of the week based on the day number (1-7).\n",
        "num = int(input(\"enter user number: \"))\n",
        "if num == 1:\n",
        " print(\"monday\")\n",
        "elif num ==2:\n",
        "  print(\"Tuesday\")\n",
        "elif num==3:\n",
        "  print(\"wenesday\")\n",
        "elif num==4:\n",
        "  print(\"thursday\")\n",
        "elif num==5:\n",
        "  print(\"friday\")\n",
        "elif num==6:\n",
        "   print(\"saturday\")\n",
        "elif num==7:\n",
        "  print(\"sunday\")"
      ],
      "metadata": {
        "colab": {
          "base_uri": "https://localhost:8080/"
        },
        "id": "YydG9TqqCItO",
        "outputId": "dc5b843b-8d3d-4a91-acf5-edbe22787273"
      },
      "execution_count": null,
      "outputs": [
        {
          "output_type": "stream",
          "name": "stdout",
          "text": [
            "enter user number: 4\n",
            "thursday\n"
          ]
        }
      ]
    },
    {
      "cell_type": "code",
      "source": [
        "#13. Develop a program that calculates the factorial of a given number using recursion.\n",
        "# Function to find factorial of given number\n",
        "def factorial(n):\n",
        "\n",
        "    if n == 0:\n",
        "        return 1\n",
        "\n",
        "    return n * factorial(n-1)\n",
        "\n",
        "# Driver Code\n",
        "num = 5;\n",
        "print(\"Factorial of\", num, \"is\",\n",
        "factorial(num))"
      ],
      "metadata": {
        "colab": {
          "base_uri": "https://localhost:8080/"
        },
        "id": "ZoHSN73fCmsy",
        "outputId": "e0b1521a-1521-4800-9694-1bc2a2b51938"
      },
      "execution_count": null,
      "outputs": [
        {
          "output_type": "stream",
          "name": "stdout",
          "text": [
            "Factorial of 5 is 120\n"
          ]
        }
      ]
    },
    {
      "cell_type": "code",
      "source": [
        "#Write a program to find the largest among three numbers without using the max() function.\n",
        "a = 10\n",
        "b = 25\n",
        "c = 15\n",
        "largest = max(a, b, c)\n",
        "print(\"The largest number among\", a, \",\", b, \"and\", c, \"is\", largest)"
      ],
      "metadata": {
        "colab": {
          "base_uri": "https://localhost:8080/"
        },
        "id": "3HpEfjt9DJwb",
        "outputId": "b70c836e-0c45-4b39-f781-cb5f5ed80766"
      },
      "execution_count": null,
      "outputs": [
        {
          "output_type": "stream",
          "name": "stdout",
          "text": [
            "The largest number among 10 , 25 and 15 is 25\n"
          ]
        }
      ]
    },
    {
      "cell_type": "code",
      "source": [
        "#Create a program that simulates a basic ATM transaction menu.\n",
        "print(\"Welcome to bank \")\n",
        "p=int(input(\"Enter your 4 digit pin number: \"))\n",
        "m = 25000\n",
        "if(p == 1234):\n",
        " print(\"1-Withdraw\")\n",
        " print(\"2-Balance Enquiry\")\n",
        " print(\"3-Fast Cash\")\n",
        " c = int(input(\"Please choose transactions: \"))\n",
        " if (c == 1):\n",
        "   w=int(input(\"Enter withdraw amount: \"))\n",
        "   if (w < m and w%100 == 0):\n",
        "    print(\"Please take your amount:\", w)\n",
        "   else:\n",
        "    print(\"Invalid cash\")\n",
        "\n",
        " elif(c==2):\n",
        "  print(\"Your available amount : \",m)\n",
        "\n",
        " elif (c == 3):\n",
        "  print(\"1->5,000\")\n",
        "  print(\"2->10,000\")\n",
        "  print(\"3->15,000\")\n",
        "  print(\"4->20,000\")\n",
        "\n",
        "  f = int(input(\"Enter fast cash option: \"))\n",
        "  if (f == 1 and 5000 < m):\n",
        "   print(\"please take cash 5000\")\n",
        "  elif (f == 2 and 10000 < m):\n",
        "   print(\"please take cash 10000\")\n",
        "  elif (f == 3 and 15000 < m):\n",
        "   print(\"please take cash 15000\")\n",
        "  elif (f == 4 and 20000 < m):\n",
        "   print(\"please take cash 20000\")\n",
        "  else:\n",
        "   print(\"Invalid fast cash option\")\n",
        " else:\n",
        "  print(\"Wrong choice\")\n",
        "\n",
        "else:\n",
        "  print(\"Wrong pin number\")"
      ],
      "metadata": {
        "colab": {
          "base_uri": "https://localhost:8080/"
        },
        "id": "P-LsQD8bDe42",
        "outputId": "2bdbaae4-5e0f-435f-cfae-e796fce98c82"
      },
      "execution_count": null,
      "outputs": [
        {
          "output_type": "stream",
          "name": "stdout",
          "text": [
            "Welcome to bank \n",
            "Enter your 4 digit pin number: 1234\n",
            "1-Withdraw\n",
            "2-Balance Enquiry\n",
            "3-Fast Cash\n",
            "Please choose transactions: 1\n",
            "Enter withdraw amount: 2500\n",
            "Please take your amount: 2500\n"
          ]
        }
      ]
    },
    {
      "cell_type": "code",
      "source": [
        "#Build a program that checks if a given string is a palindrome or not.\n",
        "\n",
        "str_1 = input('Enter the string to: ')\n",
        "\n",
        "str_1 = str_1.casefold ()\n",
        "\n",
        "rev_str = reversed (str_1)\n",
        "\n",
        "if str_1 == rev_str:\n",
        "  print ('The string is a palindrome.')\n",
        "\n",
        "else:\n",
        "  print ('The string is not a palindrome.')\n"
      ],
      "metadata": {
        "colab": {
          "base_uri": "https://localhost:8080/"
        },
        "id": "yYVNIpZrFemk",
        "outputId": "cd01f866-6d00-4c2d-f8e0-e5faf57c0c3e"
      },
      "execution_count": null,
      "outputs": [
        {
          "output_type": "stream",
          "name": "stdout",
          "text": [
            "Enter the string to: peep\n",
            "The string is not a palindrome.\n"
          ]
        }
      ]
    },
    {
      "cell_type": "code",
      "source": [
        "#Write a program that calculates the average of a list of numbers, excluding the smallest and largest values.\n",
        "n=int(input(\"Enter the number of elements to be inserted: \"))\n",
        "a=[]\n",
        "for i in range(0,n):\n",
        "    elem=int(input(\"Enter element: \"))\n",
        "    a.append(elem)\n",
        "avg=sum(a)/n\n",
        "print(\"Average of elements in the list\",round(avg,2))"
      ],
      "metadata": {
        "colab": {
          "base_uri": "https://localhost:8080/"
        },
        "id": "XKmD5RhgG0c2",
        "outputId": "4e033236-d846-4430-a696-07263aaf03a5"
      },
      "execution_count": null,
      "outputs": [
        {
          "output_type": "stream",
          "name": "stdout",
          "text": [
            "Enter the number of elements to be inserted: 3\n",
            "Enter element: 23\n",
            "Enter element: 45\n",
            "Enter element: 65\n",
            "Average of elements in the list 44.33\n"
          ]
        }
      ]
    },
    {
      "cell_type": "code",
      "source": [
        "#Develop a program that converts a given temperature from Celsius to Fahrenheit.\n",
        "celsius = int(input(\"Enter the Temperature in Celsius :\\n\"))\n",
        "fahrenheit = (1.8 * celsius) + 32\n",
        "print(\"Temperature in Fahrenheit :\", fahrenheit)"
      ],
      "metadata": {
        "colab": {
          "base_uri": "https://localhost:8080/"
        },
        "id": "kwEiMzkQHLod",
        "outputId": "fb0c6484-2331-4c82-f185-38dfb699c490"
      },
      "execution_count": null,
      "outputs": [
        {
          "output_type": "stream",
          "name": "stdout",
          "text": [
            "Enter the Temperature in Celsius :\n",
            "10\n",
            "Temperature in Fahrenheit : 50.0\n"
          ]
        }
      ]
    },
    {
      "cell_type": "code",
      "source": [
        "#Create a program that simulates a basic calculator for addition, subtraction, multiplication, and division.\n",
        "n1 = float(input(\"Enter the First Number: \"))\n",
        "n2 = float(input(\"Enter the Second Number: \"))\n",
        "\n",
        "#addition\n",
        "\n",
        "print(\"{} + {} = \".format(n1, n2))\n",
        "print(n1 + n2)\n",
        "\n",
        "#subtraction\n",
        "\n",
        "print(\"{} - {} = \".format(n1, n2))\n",
        "print(n1 - n2)\n",
        "\n",
        "#multiplication\n",
        "\n",
        "print(\"{} * {} = \".format(n1, n2))\n",
        "print(n1 * n2)\n",
        "\n",
        "#division\n",
        "\n",
        "print(\"{} / {} = \".format(n1, n2))\n",
        "print(n1 / n2)"
      ],
      "metadata": {
        "colab": {
          "base_uri": "https://localhost:8080/"
        },
        "id": "tXgzK5RgHhxI",
        "outputId": "cf4bf3df-baa8-4894-a10c-3e3f976b119f"
      },
      "execution_count": null,
      "outputs": [
        {
          "output_type": "stream",
          "name": "stdout",
          "text": [
            "Enter the First Number: 3\n",
            "Enter the Second Number: 3\n",
            "3.0 + 3.0 = \n",
            "6.0\n",
            "3.0 - 3.0 = \n",
            "0.0\n",
            "3.0 * 3.0 = \n",
            "9.0\n",
            "3.0 / 3.0 = \n",
            "1.0\n"
          ]
        }
      ]
    },
    {
      "cell_type": "code",
      "source": [
        "#Write a program that determines the roots of a cubic equation using the Cardano formula.\n",
        "\n",
        "def diff(n, mid):\n",
        "    if (n > (mid * mid * mid)):\n",
        "        return (n - (mid * mid * mid))\n",
        "    else:\n",
        "        return ((mid * mid * mid) - n)\n",
        "\n",
        "# Returns cube root of a no n\n",
        "\n",
        "\n",
        "def cubicRoot(n):\n",
        "\n",
        "    # Set start and end for binary\n",
        "    # search\n",
        "    start = 0\n",
        "    end = n\n",
        "\n",
        "    # Set precision\n",
        "    e = 0.0000001\n",
        "    while (True):\n",
        "\n",
        "        mid = (start + end) / 2\n",
        "        error = diff(n, mid)\n",
        "\n",
        "        # If error is less than e\n",
        "        # then mid is our answer\n",
        "        # so return mid\n",
        "        if (error <= e):\n",
        "            return mid\n",
        "\n",
        "        # If mid*mid*mid is greater\n",
        "        # than n set end = mid\n",
        "        if ((mid * mid * mid) > n):\n",
        "            end = mid\n",
        "\n",
        "        # If mid*mid*mid is less\n",
        "        # than n set start = mid\n",
        "        else:\n",
        "            start = mid\n",
        "\n",
        "\n",
        "# Driver code\n",
        "n = 3\n",
        "print(\"Cubic root of\", n, \"is\",round(cubicRoot(n), 6))"
      ],
      "metadata": {
        "colab": {
          "base_uri": "https://localhost:8080/"
        },
        "id": "4cPF26svH0lh",
        "outputId": "6c297ea0-d1ba-4e2b-8811-e385e5652295"
      },
      "execution_count": null,
      "outputs": [
        {
          "output_type": "stream",
          "name": "stdout",
          "text": [
            "Cubic root of 3 is 1.44225\n"
          ]
        }
      ]
    },
    {
      "cell_type": "markdown",
      "source": [],
      "metadata": {
        "id": "UNiG60QaI_og"
      }
    },
    {
      "cell_type": "code",
      "source": [
        "#21. Create a program that calculates the income tax based on the user's income and tax brackets.\n",
        "def calculate(amount, percent):\n",
        "    return (amount * percent) / 100\n",
        "\n",
        "def calculate_income_tax(total_income:\n",
        "                         float) -> float:\n",
        "\n",
        "    if total_income <= 250000:\n",
        "        return 0\n",
        "    elif total_income <= 500000:\n",
        "        return calculate(total_income -\n",
        "                         250000, 5)\n",
        "    elif total_income <= 750000:\n",
        "        return calculate(total_income -\n",
        "                         500000, 10) + 12500\n",
        "    elif total_income <= 1000000:\n",
        "        return calculate(total_income -\n",
        "                         750000, 15) + 37500\n",
        "    elif total_income <= 1250000:\n",
        "        return calculate(total_income -\n",
        "                         1000000, 20) + 75000\n",
        "    elif total_income <= 1500000:\n",
        "        return calculate(total_income -\n",
        "                         1250000, 25) + 125000\n",
        "    else:\n",
        "        return calculate(total_income -\n",
        "                         1500000, 30) + 187500\n",
        "\n",
        "\n",
        "if __name__ == '__main__':\n",
        "    total_income = float(input(\"What's your \\ annual income?\\n>>> \"))\n",
        "    tax = calculate_income_tax(total_income)\n",
        "    print(f\"Total tax applicable at \\ ₹{total_income} is ₹{tax}\")"
      ],
      "metadata": {
        "colab": {
          "base_uri": "https://localhost:8080/"
        },
        "id": "XENBL8T7I3AC",
        "outputId": "de9cba78-010c-498e-cb0e-2613234ffa4d"
      },
      "execution_count": null,
      "outputs": [
        {
          "output_type": "stream",
          "name": "stdout",
          "text": [
            "What's your \\ annual income?\n",
            ">>> 1000000\n",
            "Total tax applicable at \\ ₹1000000.0 is ₹75000.0\n"
          ]
        }
      ]
    },
    {
      "cell_type": "code",
      "source": [
        "#22. Write a program that simulates a rock-paper-scissors game against the computer.\n",
        "import random\n",
        "\n",
        "\n",
        "\n",
        "options = [\"Rock\", \"Paper\", \"Scissors\"]\n",
        "\n",
        "\n",
        "\n",
        "user_choice = input(\"Choose Rock, Paper, or Scissors: \")\n",
        "\n",
        "computer_choice = random.choice(options)\n",
        "\n",
        "\n",
        "\n",
        "print(\"You chose: \", user_choice)\n",
        "\n",
        "print(\"Computer chose: \", computer_choice)\n",
        "\n",
        "\n",
        "\n",
        "if user_choice == computer_choice:\n",
        "\n",
        "    print(\"It's a tie!\")\n",
        "\n",
        "elif user_choice == \"Rock\" and computer_choice == \"Scissors\":\n",
        "\n",
        "    print(\"You win!\")\n",
        "\n",
        "elif user_choice == \"Paper\" and computer_choice == \"Rock\":\n",
        "\n",
        "    print(\"You win!\")\n",
        "\n",
        "elif user_choice == \"Scissors\" and computer_choice == \"Paper\":\n",
        "\n",
        "    print(\"You win!\")\n",
        "\n",
        "else:\n",
        "\n",
        "    print(\"Computer wins!\")\n"
      ],
      "metadata": {
        "colab": {
          "base_uri": "https://localhost:8080/"
        },
        "id": "Zc1MSwhKLEso",
        "outputId": "acf1f117-158b-420e-de29-5f326e9d6eec"
      },
      "execution_count": null,
      "outputs": [
        {
          "output_type": "stream",
          "name": "stdout",
          "text": [
            "Choose Rock, Paper, or Scissors: rock\n",
            "You chose:  rock\n",
            "Computer chose:  Paper\n",
            "Computer wins!\n"
          ]
        }
      ]
    },
    {
      "cell_type": "code",
      "source": [
        "#23. Develop a program that generates a random password based on user preferences (length, complexity).\n",
        "import random\n",
        "import array\n",
        "\n",
        "# maximum length of password needed\n",
        "# this can be changed to suit your password length\n",
        "MAX_LEN = 12\n",
        "\n",
        "# declare arrays of the character that we need in out password\n",
        "# Represented as chars to enable easy string concatenation\n",
        "DIGITS = ['0', '1', '2', '3', '4', '5', '6', '7', '8', '9']\n",
        "LOCASE_CHARACTERS = ['a', 'b', 'c', 'd', 'e', 'f', 'g', 'h',\n",
        "                     'i', 'j', 'k', 'm', 'n', 'o', 'p', 'q',\n",
        "                     'r', 's', 't', 'u', 'v', 'w', 'x', 'y',\n",
        "                     'z']\n",
        "\n",
        "UPCASE_CHARACTERS = ['A', 'B', 'C', 'D', 'E', 'F', 'G', 'H',\n",
        "                     'I', 'J', 'K', 'M', 'N', 'O', 'P', 'Q',\n",
        "                     'R', 'S', 'T', 'U', 'V', 'W', 'X', 'Y',\n",
        "                     'Z']\n",
        "\n",
        "SYMBOLS = ['@', '#', '$', '%', '=', ':', '?', '.', '/', '|', '~', '>',\n",
        "           '*', '(', ')', '<']\n",
        "\n",
        "# combines all the character arrays above to form one array\n",
        "COMBINED_LIST = DIGITS + UPCASE_CHARACTERS + LOCASE_CHARACTERS + SYMBOLS\n",
        "\n",
        "# randomly select at least one character from each character set above\n",
        "rand_digit = random.choice(DIGITS)\n",
        "rand_upper = random.choice(UPCASE_CHARACTERS)\n",
        "rand_lower = random.choice(LOCASE_CHARACTERS)\n",
        "rand_symbol = random.choice(SYMBOLS)\n",
        "\n",
        "# combine the character randomly selected above\n",
        "# at this stage, the password contains only 4 characters but\n",
        "# we want a 12-character password\n",
        "temp_pass = rand_digit + rand_upper + rand_lower + rand_symbol\n",
        "\n",
        "\n",
        "# now that we are sure we have at least one character from each\n",
        "# set of characters, we fill the rest of\n",
        "# the password length by selecting randomly from the combined\n",
        "# list of character above.\n",
        "for x in range(MAX_LEN - 4):\n",
        "    temp_pass = temp_pass + random.choice(COMBINED_LIST)\n",
        "\n",
        "    # convert temporary password into array and shuffle to\n",
        "    # prevent it from having a consistent pattern\n",
        "    # where the beginning of the password is predictable\n",
        "    temp_pass_list = array.array('u', temp_pass)\n",
        "    random.shuffle(temp_pass_list)\n",
        "\n",
        "# traverse the temporary password array and append the chars\n",
        "# to form the password\n",
        "password = \"\"\n",
        "for x in temp_pass_list:\n",
        "        password = password + x\n",
        "\n",
        "# print out password\n",
        "print(password)"
      ],
      "metadata": {
        "colab": {
          "base_uri": "https://localhost:8080/"
        },
        "id": "CSSU6N1PLZZS",
        "outputId": "84931e14-3a65-46dd-d15a-264c5a047dc2"
      },
      "execution_count": null,
      "outputs": [
        {
          "output_type": "stream",
          "name": "stdout",
          "text": [
            ")Ta)0cXJ81at\n"
          ]
        }
      ]
    },
    {
      "cell_type": "code",
      "source": [
        "#24. Create a program that implements a simple text-based adventure game with branching scenarios.\n",
        "\n",
        "answer_yes = [\"Yes\", \"Y\", \"yes\", \"y\"]\n",
        "answer_no = [\"No\", \"N\", \"no\", \"n\"]\n",
        "\n",
        "print(\"\"\"\n",
        "WELCOME! LET'S START THE ADVENTURE\n",
        "\n",
        "You are standing outside of your house and you see a man running towards you and asking for urgent shelter.\n",
        "\n",
        "Will you provide shelter to him. (Yes / No)\n",
        "\"\"\")\n",
        "\n",
        "ans1 = input(\">>\")\n",
        "\n",
        "if ans1 in answer_yes:\n",
        "    print(\"\\nAfter 2 minutes, the Police came to your house, and ask you that whether the thief is in your house or not. Will you say (Yes / No)\\n\")\n",
        "\n",
        "    ans2 = input(\">>\")\n",
        "\n",
        "    if ans2 in answer_yes:\n",
        "        print(\"\\nYou are an honest person. He was a thief & You won the Game\")\n",
        "\n",
        "    elif ans2 in answer_no:\n",
        "        print(\"\\nYou helped a thief. Now, go to Jail. GAME OVER\")\n",
        "\n",
        "    else:\n",
        "        print(\"\\nYou typed the wrong input. GOODBYE!\")\n",
        "\n",
        "elif ans1 in answer_no:\n",
        "    print(\"\\nNow, he is trying to kill you. Will, you knock him down? (Yes / No)\\n\")\n",
        "\n",
        "    ans3 = input(\">>\")\n",
        "\n",
        "    if ans3 in answer_yes:\n",
        "        print(\"\\nCongrats! He was a thief & You helped the police to catch him with your bravery.\")\n",
        "\n",
        "    elif ans3 in answer_no:\n",
        "        print(\"\\nSorry! You are dead. He was a thief & He killed you. GAME OVER\")\n",
        "\n",
        "    else:\n",
        "        print(\"\\nYou typed the wrong input. GOODBYE!\")\n",
        "\n",
        "else:\n",
        "    print(\"\\nYou typed the wrong input. GOODBYE!\")"
      ],
      "metadata": {
        "id": "nLQwT8BKL3qQ",
        "colab": {
          "base_uri": "https://localhost:8080/"
        },
        "outputId": "030bea41-77bd-42c2-ac70-361f780befa2"
      },
      "execution_count": 1,
      "outputs": [
        {
          "output_type": "stream",
          "name": "stdout",
          "text": [
            "\n",
            "WELCOME! LET'S START THE ADVENTURE\n",
            "\n",
            "You are standing outside of your house and you see a man running towards you and asking for urgent shelter.\n",
            "\n",
            "Will you provide shelter to him. (Yes / No)\n",
            "\n",
            ">>yes\n",
            "\n",
            "After 2 minutes, the Police came to your house, and ask you that whether the thief is in your house or not. Will you say (Yes / No)\n",
            "\n",
            ">>yes\n",
            "\n",
            "You are an honest person. He was a thief & You won the Game\n"
          ]
        }
      ]
    },
    {
      "cell_type": "code",
      "source": [
        "#25. Build a program that solves a linear equation for x, considering different cases.\n",
        "# importing library sympy\n",
        "from sympy import symbols, Eq, solve\n",
        "\n",
        "# defining symbols used in equations\n",
        "# or unknown variables\n",
        "x, y = symbols('x,y')\n",
        "\n",
        "# defining equations\n",
        "eq1 = Eq((x+y), 1)\n",
        "print(\"Equation 1:\")\n",
        "print(eq1)\n",
        "eq2 = Eq((x-y), 1)\n",
        "print(\"Equation 2\")\n",
        "print(eq2)\n",
        "\n",
        "# solving the equation\n",
        "print(\"Values of 2 unknown variable are as follows:\")\n",
        "\n",
        "print(solve((eq1, eq2), (x, y)))"
      ],
      "metadata": {
        "colab": {
          "base_uri": "https://localhost:8080/"
        },
        "id": "TM5E-LaMJ0KK",
        "outputId": "46d7c9b5-3266-4124-9085-04853f0c083d"
      },
      "execution_count": 2,
      "outputs": [
        {
          "output_type": "stream",
          "name": "stdout",
          "text": [
            "Equation 1:\n",
            "Eq(x + y, 1)\n",
            "Equation 2\n",
            "Eq(x - y, 1)\n",
            "Values of 2 unknown variable are as follows:\n",
            "{x: 1, y: 0}\n"
          ]
        }
      ]
    },
    {
      "cell_type": "code",
      "source": [
        "#26. Write a program that simulates a basic quiz game with multiple-choice questions and scoring.\n",
        "\n",
        "print(\"Wellcome to quiz game !!\")\n",
        "print('NOTE: if your spelling is incorrect then it is considered as wrong answer')\n",
        "score = 0\n",
        "question_no = 0\n",
        "playing = input('Do you want to play ? ').lower()\n",
        "if playing == 'yes':\n",
        "    question_no += 1\n",
        "    ques = input(f'\\n{question_no}. what does CPU stand for? ').lower()\n",
        "    if ques == 'central processing unit':\n",
        "        score +=1\n",
        "        print('correct! you got 1 point')\n",
        "\n",
        "    else:\n",
        "        print('Incorrect!')\n",
        "        print(f'current answer is --> central processing unit')\n",
        "\n",
        "# ------1\n",
        "    question_no += 1\n",
        "    ques = input(f'\\n{question_no}. what does GPU stand for? ').lower()\n",
        "\n",
        "    if ques == 'graphics processing unit':\n",
        "        score +=1\n",
        "        print('correct! you got 1 point')\n",
        "\n",
        "    else:\n",
        "        print('Incorrect!')\n",
        "        print(f'current answer is --> graphics processing unit')\n",
        "\n",
        "# -----2\n",
        "    question_no += 1\n",
        "    ques = input(f'\\n{question_no}. what does RAM stand for? ').lower()\n",
        "\n",
        "    if ques == 'random access memory':\n",
        "        score +=1\n",
        "        print('correct! you got 1 point')\n",
        "\n",
        "    else:\n",
        "        print('Incorrect!')\n",
        "        print(f'current answer is --> random access memory')\n",
        "\n",
        "# -----3\n",
        "    question_no += 1\n",
        "    ques = input(f'\\n{question_no}. what does PSU stand for? ').lower()\n",
        "\n",
        "    if ques == 'power supply unit':\n",
        "        score +=1\n",
        "        print('correct! you got 1 point')\n",
        "# -----4\n",
        "    question_no += 1\n",
        "    ques = input(f'\\n{question_no}. what does ROM stand for? ').lower()\n",
        "\n",
        "    if ques == 'read only memory':\n",
        "        score +=1\n",
        "        print('correct! you got 1 point')\n",
        "\n",
        "    else:\n",
        "        print('Incorrect!')\n",
        "        print(f'current answer is --> read only memory')\n",
        "\n",
        "\n",
        "# ------5\n",
        "\n",
        "else:\n",
        "    print('thankyou you are out of a game.')\n",
        "    quit()\n",
        "\n",
        "print(f'\\nnumber of question is {question_no}')\n",
        "print(f'your score is {score}')\n",
        "try:\n",
        "    percentage = (score *100)/question_no\n",
        "except ZeroDivisionError:\n",
        "    print('0% quetions are correct')\n",
        "\n",
        "print(f'{percentage}% questions are correct.')"
      ],
      "metadata": {
        "colab": {
          "base_uri": "https://localhost:8080/"
        },
        "id": "OEPqG87IKTIV",
        "outputId": "3ac75753-058b-4657-9f54-64e96aed9218"
      },
      "execution_count": 4,
      "outputs": [
        {
          "output_type": "stream",
          "name": "stdout",
          "text": [
            "Wellcome to quiz game !!\n",
            "NOTE: if your spelling is incorrect then it is considered as wrong answer\n",
            "Do you want to play ? yes\n",
            "\n",
            "1. what does CPU stand for? central processing unit\n",
            "correct! you got 1 point\n",
            "\n",
            "2. what does GPU stand for? graphics processing unit\n",
            "correct! you got 1 point\n",
            "\n",
            "3. what does RAM stand for? random access memory\n",
            "correct! you got 1 point\n",
            "\n",
            "4. what does PSU stand for? power supply unit\n",
            "correct! you got 1 point\n",
            "\n",
            "5. what does ROM stand for? read only memory\n",
            "correct! you got 1 point\n",
            "\n",
            "number of question is 5\n",
            "your score is 5\n",
            "100.0% questions are correct.\n"
          ]
        }
      ]
    },
    {
      "cell_type": "code",
      "source": [
        "#27. Develop a program that determines whether a given year is a prime number or not.\n",
        "num = 2023\n",
        "\n",
        "# To take input from the user\n",
        "#num = int(input(\"Enter a number: \"))\n",
        "\n",
        "# define a flag variable\n",
        "flag = False\n",
        "\n",
        "if num == 1:\n",
        "    print(num, \"is not a prime number\")\n",
        "elif num > 1:\n",
        "    # check for factors\n",
        "    for i in range(2, num):\n",
        "        if (num % i) == 0:\n",
        "            # if factor is found, set flag to True\n",
        "            flag = True\n",
        "            # break out of loop\n",
        "            break\n",
        "\n",
        "    # check if flag is True\n",
        "    if flag:\n",
        "        print(num, \"is not a prime number\")\n",
        "    else:\n",
        "        print(num, \"is a prime number\")"
      ],
      "metadata": {
        "colab": {
          "base_uri": "https://localhost:8080/"
        },
        "id": "7ovlamc7LUTi",
        "outputId": "74e47b4e-edc1-4059-ceed-f53e3ceb037d"
      },
      "execution_count": 7,
      "outputs": [
        {
          "output_type": "stream",
          "name": "stdout",
          "text": [
            "2023 is not a prime number\n"
          ]
        }
      ]
    },
    {
      "cell_type": "code",
      "source": [
        "#28. Create a program that sorts three numbers in ascending order using conditional statements.\n",
        "# Prompt the user to enter three numbers\n",
        "num1 = int(input(\"Enter the first number: \"))\n",
        "num2 = int(input(\"Enter the second number: \"))\n",
        "num3 = int(input(\"Enter the third number: \"))\n",
        "\n",
        "# Sort the numbers in ascending order\n",
        "if num1 <= num2 and num1 <= num3:\n",
        "    smallest = num1\n",
        "    if num2 <= num3:\n",
        "        middle = num2\n",
        "        largest = num3\n",
        "    else:\n",
        "        middle = num3\n",
        "        largest = num2\n",
        "elif num2 <= num1 and num2 <= num3:\n",
        "    smallest = num2\n",
        "    if num1 <= num3:\n",
        "        middle = num1\n",
        "        largest = num3\n",
        "    else:\n",
        "        middle = num3\n",
        "        largest = num1\n",
        "else:\n",
        "    smallest = num3\n",
        "    if num1 <= num2:\n",
        "        middle = num1\n",
        "        largest = num2\n",
        "    else:\n",
        "        middle = num2\n",
        "        largest = num1\n",
        "\n",
        "# Print the sorted numbers in ascending order\n",
        "print(\"Sorted numbers in ascending order:\", smallest, middle, largest)"
      ],
      "metadata": {
        "colab": {
          "base_uri": "https://localhost:8080/"
        },
        "id": "-oLOrqXPOW-A",
        "outputId": "2b77a1ce-df4c-4ea4-b011-7f2b9d017aff"
      },
      "execution_count": 8,
      "outputs": [
        {
          "output_type": "stream",
          "name": "stdout",
          "text": [
            "Enter the first number: 23\n",
            "Enter the second number: 34\n",
            "Enter the third number: 12\n",
            "Sorted numbers in ascending order: 12 23 34\n"
          ]
        }
      ]
    },
    {
      "cell_type": "code",
      "source": [
        "#29. Build a program that determines the roots of a quartic equation using numerical methods.\n",
        "import cmath\n",
        "\n",
        "a = 1\n",
        "b = 5\n",
        "c = 6\n",
        "\n",
        "# calculate the discriminant\n",
        "d = (b**2) - (4*a*c)\n",
        "\n",
        "# find two solutions\n",
        "sol1 = (-b-cmath.sqrt(d))/(2*a)\n",
        "sol2 = (-b+cmath.sqrt(d))/(2*a)\n",
        "\n",
        "print('The solution are {0} and {1}'.format(sol1,sol2))"
      ],
      "metadata": {
        "colab": {
          "base_uri": "https://localhost:8080/"
        },
        "id": "F-CTQO34OrEZ",
        "outputId": "50233c44-9d94-4216-a745-2d2fcd5520de"
      },
      "execution_count": 9,
      "outputs": [
        {
          "output_type": "stream",
          "name": "stdout",
          "text": [
            "The solution are (-3+0j) and (-2+0j)\n"
          ]
        }
      ]
    },
    {
      "cell_type": "code",
      "source": [
        "#30. Write a program that calculates the BMI (Body Mass Index) and provides health recommendations based on the user's input.\n",
        "height = 1.79832\n",
        "weight = 70\n",
        "\n",
        "# calling the BMI function\n",
        "bmi = weight/(height**2)\n",
        "print(\"The BMI is\", format(bmi), \"so \", end='')\n",
        "\n",
        "# Conditions to find out BMI category\n",
        "if (bmi < 18.5):\n",
        "    print(\"underweight\")\n",
        "\n",
        "elif ( bmi >= 18.5 and bmi < 24.9):\n",
        "    print(\"Healthy\")\n",
        "\n",
        "elif ( bmi >= 24.9 and bmi < 30):\n",
        "    print(\"overweight\")\n",
        "\n",
        "elif ( bmi >=30):\n",
        "    print(\"Suffering from Obesity\")"
      ],
      "metadata": {
        "colab": {
          "base_uri": "https://localhost:8080/"
        },
        "id": "SZ7sskEHO9cM",
        "outputId": "30f8ffa6-cefd-409c-8778-0b371657285d"
      },
      "execution_count": 10,
      "outputs": [
        {
          "output_type": "stream",
          "name": "stdout",
          "text": [
            "The BMI is 21.64532402096181 so Healthy\n"
          ]
        }
      ]
    },
    {
      "cell_type": "code",
      "source": [
        "#31.Create a program that validates a password based on complexity rules (length, characters, etc.).\n",
        "import re\n",
        "p= input(\"Input your password\")\n",
        "x = True\n",
        "while x:\n",
        "    if (len(p)<6 or len(p)>12):\n",
        "        break\n",
        "    elif not re.search(\"[a-z]\",p):\n",
        "        break\n",
        "    elif not re.search(\"[0-9]\",p):\n",
        "        break\n",
        "    elif not re.search(\"[A-Z]\",p):\n",
        "        break\n",
        "    elif not re.search(\"[$#@]\",p):\n",
        "        break\n",
        "    elif re.search(\"\\s\",p):\n",
        "        break\n",
        "    else:\n",
        "        print(\"Valid Password\")\n",
        "        x=False\n",
        "        break\n",
        "\n",
        "if x:\n",
        "    print(\"Not a Valid Password\")"
      ],
      "metadata": {
        "colab": {
          "base_uri": "https://localhost:8080/"
        },
        "id": "JUqiN_EPPsEW",
        "outputId": "e3ddeb7c-ba48-4e09-b665-a99acc210171"
      },
      "execution_count": 11,
      "outputs": [
        {
          "output_type": "stream",
          "name": "stdout",
          "text": [
            "Input your passwordpass@W113\n",
            "Valid Password\n"
          ]
        }
      ]
    },
    {
      "cell_type": "code",
      "source": [
        "#32. Develop a program that performs matrix addition and subtraction based on user input.\n",
        "import numpy as np\n",
        "\n",
        "\n",
        "# creating first matrix\n",
        "A = np.array([[1, 2], [3, 4]])\n",
        "\n",
        "# creating second matrix\n",
        "B = np.array([[4, 5], [6, 7]])\n",
        "\n",
        "print(\"Printing elements of first matrix\")\n",
        "print(A)\n",
        "print(\"Printing elements of second matrix\")\n",
        "print(B)\n",
        "\n",
        "# adding two matrix\n",
        "print(\"Addition of two matrix\")\n",
        "print(np.add(A, B))"
      ],
      "metadata": {
        "colab": {
          "base_uri": "https://localhost:8080/"
        },
        "id": "1GfC088wP9SH",
        "outputId": "5ac4e1df-ee37-4861-a387-fcf0d1155eb5"
      },
      "execution_count": 12,
      "outputs": [
        {
          "output_type": "stream",
          "name": "stdout",
          "text": [
            "Printing elements of first matrix\n",
            "[[1 2]\n",
            " [3 4]]\n",
            "Printing elements of second matrix\n",
            "[[4 5]\n",
            " [6 7]]\n",
            "Addition of two matrix\n",
            "[[ 5  7]\n",
            " [ 9 11]]\n"
          ]
        }
      ]
    },
    {
      "cell_type": "code",
      "source": [
        "#33. Write a program that calculates the greatest common divisor (GCD) of two numbers using the Euclidean algorithm.\n",
        "import math\n",
        "\n",
        "# prints 12\n",
        "print(\"The gcd of 60 and 48 is : \", end=\"\")\n",
        "print(math.gcd(60, 48))"
      ],
      "metadata": {
        "colab": {
          "base_uri": "https://localhost:8080/"
        },
        "id": "D6hj5vY7Qllj",
        "outputId": "d910c67e-cbb2-42b4-85e1-2fd8396fc050"
      },
      "execution_count": 13,
      "outputs": [
        {
          "output_type": "stream",
          "name": "stdout",
          "text": [
            "The gcd of 60 and 48 is : 12\n"
          ]
        }
      ]
    },
    {
      "cell_type": "code",
      "source": [
        "#34. Build a program that performs matrix multiplication using nested loops and conditional statements.\n",
        "# Program to multiply two matrices using nested loops\n",
        "\n",
        "# 3x3 matrix\n",
        "X = [[12,7,3],\n",
        "    [4 ,5,6],\n",
        "    [7 ,8,9]]\n",
        "# 3x4 matrix\n",
        "Y = [[5,8,1,2],\n",
        "    [6,7,3,0],\n",
        "    [4,5,9,1]]\n",
        "# result is 3x4\n",
        "result = [[0,0,0,0],\n",
        "         [0,0,0,0],\n",
        "         [0,0,0,0]]\n",
        "\n",
        "# iterate through rows of X\n",
        "for i in range(len(X)):\n",
        "   # iterate through columns of Y\n",
        "   for j in range(len(Y[0])):\n",
        "       # iterate through rows of Y\n",
        "       for k in range(len(Y)):\n",
        "           result[i][j] += X[i][k] * Y[k][j]\n",
        "\n",
        "for r in result:\n",
        "   print(r)"
      ],
      "metadata": {
        "colab": {
          "base_uri": "https://localhost:8080/"
        },
        "id": "NEBtFS2zRISm",
        "outputId": "6917bb48-7630-4e83-fe40-535558b61b9c"
      },
      "execution_count": 14,
      "outputs": [
        {
          "output_type": "stream",
          "name": "stdout",
          "text": [
            "[114, 160, 60, 27]\n",
            "[74, 97, 73, 14]\n",
            "[119, 157, 112, 23]\n"
          ]
        }
      ]
    },
    {
      "cell_type": "code",
      "source": [
        "#35. Create a program that simulates a basic text-based tic-tac-toe game against the computer.\n",
        "#Set up the game board as a list\n",
        "board = [\"-\", \"-\", \"-\",\n",
        "         \"-\", \"-\", \"-\",\n",
        "         \"-\", \"-\", \"-\"]\n",
        "\n",
        "# Define a function to print the game board\n",
        "def print_board():\n",
        "    print(board[0] + \" | \" + board[1] + \" | \" + board[2])\n",
        "    print(board[3] + \" | \" + board[4] + \" | \" + board[5])\n",
        "    print(board[6] + \" | \" + board[7] + \" | \" + board[8])\n",
        "\n",
        "# Define a function to handle a player's turn\n",
        "def take_turn(player):\n",
        "    print(player + \"'s turn.\")\n",
        "    position = input(\"Choose a position from 1-9: \")\n",
        "    while position not in [\"1\", \"2\", \"3\", \"4\", \"5\", \"6\", \"7\", \"8\", \"9\"]:\n",
        "        position = input(\"Invalid input. Choose a position from 1-9: \")\n",
        "    position = int(position) - 1\n",
        "    while board[position] != \"-\":\n",
        "        position = int(input(\"Position already taken. Choose a different position: \")) - 1\n",
        "    board[position] = player\n",
        "    print_board()\n",
        "\n",
        "# Define a function to check if the game is over\n",
        "def check_game_over():\n",
        "    # Check for a win\n",
        "    if (board[0] == board[1] == board[2] != \"-\") or \\\n",
        "       (board[3] == board[4] == board[5] != \"-\") or \\\n",
        "       (board[6] == board[7] == board[8] != \"-\") or \\\n",
        "       (board[0] == board[3] == board[6] != \"-\") or \\\n",
        "       (board[1] == board[4] == board[7] != \"-\") or \\\n",
        "       (board[2] == board[5] == board[8] != \"-\") or \\\n",
        "       (board[0] == board[4] == board[8] != \"-\") or \\\n",
        "       (board[2] == board[4] == board[6] != \"-\"):\n",
        "        return \"win\"\n",
        "    # Check for a tie\n",
        "    elif \"-\" not in board:\n",
        "        return \"tie\"\n",
        "    # Game is not over\n",
        "    else:\n",
        "        return \"play\"\n",
        "\n",
        "# Define the main game loop\n",
        "def play_game():\n",
        "    print_board()\n",
        "    current_player = \"X\"\n",
        "    game_over = False\n",
        "    while not game_over:\n",
        "        take_turn(current_player)\n",
        "        game_result = check_game_over()\n",
        "        if game_result == \"win\":\n",
        "            print(current_player + \" wins!\")\n",
        "            game_over = True\n",
        "        elif game_result == \"tie\":\n",
        "            print(\"It's a tie!\")\n",
        "            game_over = True\n",
        "        else:\n",
        "            # Switch to the other player\n",
        "            current_player = \"O\" if current_player == \"X\" else \"X\"\n",
        "\n",
        "# Start the game\n",
        "play_game()"
      ],
      "metadata": {
        "colab": {
          "base_uri": "https://localhost:8080/"
        },
        "id": "7p_AMpCDRbmk",
        "outputId": "69f77003-953e-46ba-a0ff-afadd0f8a12d"
      },
      "execution_count": 17,
      "outputs": [
        {
          "output_type": "stream",
          "name": "stdout",
          "text": [
            "- | - | -\n",
            "- | - | -\n",
            "- | - | -\n",
            "X's turn.\n",
            "Choose a position from 1-9: 4\n",
            "- | - | -\n",
            "X | - | -\n",
            "- | - | -\n",
            "O's turn.\n",
            "Choose a position from 1-9: 4\n",
            "Position already taken. Choose a different position: 5\n",
            "- | - | -\n",
            "X | O | -\n",
            "- | - | -\n",
            "X's turn.\n",
            "Choose a position from 1-9: 2\n",
            "- | X | -\n",
            "X | O | -\n",
            "- | - | -\n",
            "O's turn.\n",
            "Choose a position from 1-9: 4\n",
            "Position already taken. Choose a different position: 2\n",
            "Position already taken. Choose a different position: 1\n",
            "O | X | -\n",
            "X | O | -\n",
            "- | - | -\n",
            "X's turn.\n",
            "Choose a position from 1-9: 7\n",
            "O | X | -\n",
            "X | O | -\n",
            "X | - | -\n",
            "O's turn.\n",
            "Choose a position from 1-9: 3\n",
            "O | X | O\n",
            "X | O | -\n",
            "X | - | -\n",
            "X's turn.\n",
            "Choose a position from 1-9: 6\n",
            "O | X | O\n",
            "X | O | X\n",
            "X | - | -\n",
            "O's turn.\n",
            "Choose a position from 1-9: 8\n",
            "O | X | O\n",
            "X | O | X\n",
            "X | O | -\n",
            "X's turn.\n",
            "Choose a position from 1-9: 9\n",
            "O | X | O\n",
            "X | O | X\n",
            "X | O | X\n",
            "It's a tie!\n"
          ]
        }
      ]
    },
    {
      "cell_type": "code",
      "source": [
        "#36. Write a program that generates Fibonacci numbers up to a specified term using iterative methods.\n",
        "# Program to display the Fibonacci sequence up to n-th term\n",
        "\n",
        "nterms = int(input(\"How many terms? \"))\n",
        "\n",
        "# first two terms\n",
        "n1, n2 = 0, 1\n",
        "count = 0\n",
        "\n",
        "# check if the number of terms is valid\n",
        "if nterms <= 0:\n",
        "   print(\"Please enter a positive integer\")\n",
        "# if there is only one term, return n1\n",
        "elif nterms == 1:\n",
        "   print(\"Fibonacci sequence upto\",nterms,\":\")\n",
        "   print(n1)\n",
        "# generate fibonacci sequence\n",
        "else:\n",
        "   print(\"Fibonacci sequence:\")\n",
        "   while count < nterms:\n",
        "       print(n1)\n",
        "       nth = n1 + n2\n",
        "       # update values\n",
        "       n1 = n2\n",
        "       n2 = nth\n",
        "       count += 1"
      ],
      "metadata": {
        "colab": {
          "base_uri": "https://localhost:8080/"
        },
        "id": "GnJvyr-8ST72",
        "outputId": "7b4cf652-4bd1-41c8-bc51-1ba8c64a5ede"
      },
      "execution_count": 18,
      "outputs": [
        {
          "output_type": "stream",
          "name": "stdout",
          "text": [
            "How many terms? 5\n",
            "Fibonacci sequence:\n",
            "0\n",
            "1\n",
            "1\n",
            "2\n",
            "3\n"
          ]
        }
      ]
    },
    {
      "cell_type": "code",
      "source": [
        "def Fibonacci(n):\n",
        "    if n<= 0:\n",
        "        print(\"Incorrect input\")\n",
        "    # First Fibonacci number is 0\n",
        "    elif n == 1:\n",
        "        return 0\n",
        "    # Second Fibonacci number is 1\n",
        "    elif n == 2:\n",
        "        return 1\n",
        "    else:\n",
        "        return Fibonacci(n-1)+Fibonacci(n-2)\n",
        "\n",
        "# Driver Program\n",
        "\n",
        "print(Fibonacci(10))"
      ],
      "metadata": {
        "colab": {
          "base_uri": "https://localhost:8080/"
        },
        "id": "mIyd8MKOSn1X",
        "outputId": "8f915fe4-a07b-4e6f-8962-e59f51357496"
      },
      "execution_count": 19,
      "outputs": [
        {
          "output_type": "stream",
          "name": "stdout",
          "text": [
            "34\n"
          ]
        }
      ]
    },
    {
      "cell_type": "code",
      "source": [
        "#38. Create a program that generates a calendar for a given month and year using conditional statements.\n",
        "# Program to display calendar of the given month and year\n",
        "\n",
        "# importing calendar module\n",
        "import calendar\n",
        "\n",
        "yy = 2014  # year\n",
        "mm = 11    # month\n",
        "\n",
        "# To take month and year input from the user\n",
        "# yy = int(input(\"Enter year: \"))\n",
        "# mm = int(input(\"Enter month: \"))\n",
        "\n",
        "# display the calendar\n",
        "print(calendar.month(yy, mm))"
      ],
      "metadata": {
        "colab": {
          "base_uri": "https://localhost:8080/"
        },
        "id": "XnXc1sk3TBZs",
        "outputId": "2082e59e-156c-47da-afa0-e2df29a762ce"
      },
      "execution_count": 20,
      "outputs": [
        {
          "output_type": "stream",
          "name": "stdout",
          "text": [
            "   November 2014\n",
            "Mo Tu We Th Fr Sa Su\n",
            "                1  2\n",
            " 3  4  5  6  7  8  9\n",
            "10 11 12 13 14 15 16\n",
            "17 18 19 20 21 22 23\n",
            "24 25 26 27 28 29 30\n",
            "\n"
          ]
        }
      ]
    },
    {
      "cell_type": "code",
      "source": [
        "#39. Build a program that simulates a basic text-based blackjack game against the computer.\n",
        "import random\n",
        "\n",
        "card_categories = ['Hearts', 'Diamonds', 'Clubs', 'Spades']\n",
        "cards_list = ['Ace', '2', '3', '4', '5', '6', '7', '8', '9', '10', 'Jack', 'Queen', 'King']\n",
        "deck = [(card, category) for category in card_categories for card in cards_list]\n",
        "\n",
        "def card_value(card):\n",
        "    if card[0] in ['Jack', 'Queen', 'King']:\n",
        "        return 10\n",
        "    elif card[0] == 'Ace':\n",
        "        return 11\n",
        "    else:\n",
        "        return int(card[0])\n",
        "\n",
        "random.shuffle(deck)\n",
        "player_card = [deck.pop(), deck.pop()]\n",
        "dealer_card = [deck.pop(), deck.pop()]\n",
        "\n",
        "while True:\n",
        "    player_score = sum(card_value(card) for card in player_card)\n",
        "    dealer_score = sum(card_value(card) for card in dealer_card)\n",
        "    print(\"Cards Player Has:\", player_card)\n",
        "    print(\"Score Of The Player:\", player_score)\n",
        "    print(\"\\n\")\n",
        "    choice = input('What do you want? [\"play\" to request another card, \"stop\" to stop]: ').lower()\n",
        "    if choice == \"play\":\n",
        "        new_card = deck.pop()\n",
        "        player_card.append(new_card)\n",
        "    elif choice == \"stop\":\n",
        "        break\n",
        "    else:\n",
        "        print(\"Invalid choice. Please try again.\")\n",
        "        continue\n",
        "\n",
        "    if player_score > 21:\n",
        "        print(\"Cards Dealer Has:\", dealer_card)\n",
        "        print(\"Score Of The Dealer:\", dealer_score)\n",
        "        print(\"Cards Player Has:\", player_card)\n",
        "        print(\"Score Of The Player:\", player_score)\n",
        "        print(\"Dealer wins (Player Loss Because Player Score is exceeding 21)\")\n",
        "        break\n",
        "\n",
        "while dealer_score < 17:\n",
        "    new_card = deck.pop()\n",
        "    dealer_card.append(new_card)\n",
        "    dealer_score += card_value(new_card)\n",
        "\n",
        "print(\"Cards Dealer Has:\", dealer_card)\n",
        "print(\"Score Of The Dealer:\", dealer_score)\n",
        "print(\"\\n\")\n",
        "\n",
        "if dealer_score > 21:\n",
        "    print(\"Cards Dealer Has:\", dealer_card)\n",
        "    print(\"Score Of The Dealer:\", dealer_score)\n",
        "    print(\"Cards Player Has:\", player_card)\n",
        "    print(\"Score Of The Player:\", player_score)\n",
        "    print(\"Player wins (Dealer Loss Because Dealer Score is exceeding 21)\")\n",
        "elif player_score > dealer_score:\n",
        "    print(\"Cards Dealer Has:\", dealer_card)\n",
        "    print(\"Score Of The Dealer:\", dealer_score)\n",
        "    print(\"Cards Player Has:\", player_card)\n",
        "    print(\"Score Of The Player:\", player_score)\n",
        "    print(\"Player wins (Player Has High Score than Dealer)\")\n",
        "elif dealer_score > player_score:\n",
        "    print(\"Cards Dealer Has:\", dealer_card)\n",
        "    print(\"Score Of The Dealer:\", dealer_score)\n",
        "    print(\"Cards Player Has:\", player_card)\n",
        "    print(\"Score Of The Player:\", player_score)\n",
        "    print(\"Dealer wins (Dealer Has High Score than Player)\")\n",
        "else:\n",
        "    print(\"Cards Dealer Has:\", dealer_card)\n",
        "    print(\"Score Of The Dealer:\", dealer_score)\n",
        "    print(\"Cards Player Has:\", player_card)\n",
        "    print(\"Score Of The Player:\", player_score)\n",
        "    print(\"It's a tie.\")"
      ],
      "metadata": {
        "colab": {
          "base_uri": "https://localhost:8080/"
        },
        "id": "RNekcb5rTSHu",
        "outputId": "b096da20-8957-4766-f50f-7ad74c67db1b"
      },
      "execution_count": 21,
      "outputs": [
        {
          "output_type": "stream",
          "name": "stdout",
          "text": [
            "Cards Player Has: [('King', 'Diamonds'), ('8', 'Hearts')]\n",
            "Score Of The Player: 18\n",
            "\n",
            "\n",
            "What do you want? [\"play\" to request another card, \"stop\" to stop]: stop\n",
            "Cards Dealer Has: [('2', 'Diamonds'), ('Queen', 'Hearts'), ('9', 'Hearts')]\n",
            "Score Of The Dealer: 21\n",
            "\n",
            "\n",
            "Cards Dealer Has: [('2', 'Diamonds'), ('Queen', 'Hearts'), ('9', 'Hearts')]\n",
            "Score Of The Dealer: 21\n",
            "Cards Player Has: [('King', 'Diamonds'), ('8', 'Hearts')]\n",
            "Score Of The Player: 18\n",
            "Dealer wins (Dealer Has High Score than Player)\n"
          ]
        }
      ]
    },
    {
      "cell_type": "code",
      "source": [
        "#40. Write a program that generates the prime factors of a given number using trial division.\n",
        "def TrialDivision(N):\n",
        "\n",
        "    # Initializing with the value 2\n",
        "    # from where the number is checked\n",
        "    i = 2\n",
        "\n",
        "    # Computing the square root of\n",
        "    # the number N\n",
        "    k = int(N ** 0.5)\n",
        "\n",
        "    # While loop till the\n",
        "    # square root of N\n",
        "    while(i<= k):\n",
        "\n",
        "        # If any of the numbers between\n",
        "        # [2, sqrt(N)] is a factor of N\n",
        "        # Then the number is composite\n",
        "        if(N % i == 0):\n",
        "            return 0\n",
        "        i += 1\n",
        "\n",
        "    # If none of the numbers is a factor,\n",
        "    # then it is a prime number\n",
        "    return 1\n",
        "\n",
        "# Driver code\n",
        "if __name__ == \"__main__\":\n",
        "    N = 49\n",
        "    p = TrialDivision(N)\n",
        "\n",
        "# To check if a number is a prime or not\n",
        "    if(p):\n",
        "        print(\"Prime\")\n",
        "    else:\n",
        "        print(\"Composite\")"
      ],
      "metadata": {
        "colab": {
          "base_uri": "https://localhost:8080/"
        },
        "id": "vpYW4QMpUArC",
        "outputId": "5c6358be-761b-452f-bfff-983d906ee2b7"
      },
      "execution_count": 22,
      "outputs": [
        {
          "output_type": "stream",
          "name": "stdout",
          "text": [
            "Composite\n"
          ]
        }
      ]
    }
  ]
}